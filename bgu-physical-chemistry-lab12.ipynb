{
 "cells": [
  {
   "cell_type": "markdown",
   "id": "3ab5de95",
   "metadata": {},
   "source": [
    "# Spectroscopics studies of molecular complex of mesitylene donor with iodine by constant activity method"
   ]
  },
  {
   "cell_type": "markdown",
   "id": "a9eaf250",
   "metadata": {},
   "source": [
    "The aim of this experiment is to determin spectroscopic properties of charge-transfer complex (mesytilene -- I$_2$) and to detremine equilibrium constant of the complex.\n",
    "Equilibrium constants and ex. coefficient are determined from UV\\VIS spectra, since it is possible to calculate exact concentrations of species usin Beer-Lambert equation.\n",
    "\n",
    "Experiment is divided into two parts. The first part corresponds to determination of adequate experimental parameters for further measurement and for determination of spectral properties of pure forms.\n",
    "Three separate spectra are taken in cyclohexane (this is the solute for all the experiment): \n",
    "- spectrum of I$_2$ at $2.5 10^{-4}$ M. Concentration of I$_2$ is approximate, knowing it's $\\epsilon$ at $\\lambda = 520$ nm, we need to calculate I_$_2$ true concentration.\n",
    "- spectrum of mesytilene at $1$ M. From the spectrum we will determine $\\epsilon$ at $\\lambda$ of our interest (absorption of complex $330$ and $360$ nm) and use it to predict absorbance at wavelengths, knowing exact concentrations of mesytilene. \n",
    "- spectrum of complex. To deteriment maximum of absorbance for complex specie.\n",
    "\n",
    "The second part of the experiment is to take 5-6 solution with constant concentration of I$_{2}$ and various concentrations of mesytilene and measure their spectra. From obtained spectra, we can determine concentration of each specie and calculate equilibrium constant, since:\n",
    "\n",
    "$A + B = C$\n",
    "\n",
    "$K = \\frac{[C]}{[A][B]}$\n",
    "\n",
    "- $[C] = x $\n",
    "- $[A] = A_0 - x$\n",
    "- $[B] = B_0 - x$\n",
    "\n",
    "$K = \\frac{x}{(A_0 - x)(B_0 - x)}$"
   ]
  },
  {
   "cell_type": "markdown",
   "id": "df5ae269",
   "metadata": {},
   "source": [
    "# Import libraries"
   ]
  },
  {
   "cell_type": "code",
   "execution_count": 1,
   "id": "047469b0",
   "metadata": {},
   "outputs": [],
   "source": [
    "import numpy as np # math\n",
    "import matplotlib.pyplot as plt\n",
    "import re\n",
    "import glob\n",
    "from sklearn.metrics import r2_score"
   ]
  },
  {
   "cell_type": "markdown",
   "id": "ed65e4ab",
   "metadata": {},
   "source": [
    "# Determine constants"
   ]
  },
  {
   "cell_type": "code",
   "execution_count": 2,
   "id": "ea309410",
   "metadata": {},
   "outputs": [],
   "source": [
    "lambda_1         = 331\n",
    "lambda_2         = 360\n",
    "lambda_I_520    = 520 # spectral properties of pure iodine - max wavelength\n",
    "epsilon_I_520   = 968 # spectral properties of pure iodine - ex. coefficient\n",
    "L = 1\n",
    "C_zero_mesytilene = 2\n",
    "V_vial = 5\n",
    "V_mesytilene = np.array([4, 3, 2.5, 2, 0.5]) # The volume of mesytilene in accordance with instructions"
   ]
  },
  {
   "cell_type": "markdown",
   "id": "75e6de80",
   "metadata": {},
   "source": [
    "where\n",
    "- $\\lambda_1$  - wavelength of interest: absorbance maximum of complex  \n",
    "- $\\lambda_2 $ - additional wavelength of interest: absorbance maximum of complex \n",
    "- $\\lambda_{I_{520}}$ - wavelength of maximum absorbance on I$_2$ spectrum\n",
    "- $epsilon_{I_{520}}$ - ex. coefficient at $\\lambda_{520}$ for I$_2$, $M^{-1} cm^{-1}$\n",
    "- $L = 1$ - cuvette optical path, cm\n",
    "- $C^0_{mesytilene}$ - initial concentration of mesytilene in cyclohexane mother solution, M\n",
    "- $V_{vial}$ - flask volume, ml\n",
    "- $V_{mesytilene}$ - The volume of mesytilene taken for dilution in accordance with instructions"
   ]
  },
  {
   "cell_type": "markdown",
   "id": "e9de362a",
   "metadata": {},
   "source": [
    "# Concentrations of mesytilene\n",
    "Concentration of donor in solutions of complex, M"
   ]
  },
  {
   "cell_type": "code",
   "execution_count": 3,
   "id": "de7f931e",
   "metadata": {},
   "outputs": [
    {
     "name": "stdout",
     "output_type": "stream",
     "text": [
      "C(mesytilene) = [1.6 1.2 1.  0.8 0.2] M\n"
     ]
    }
   ],
   "source": [
    "C_final_mesytilene = C_zero_mesytilene * V_mesytilene / V_vial\n",
    "print(\"C(mesytilene) =\", C_final_mesytilene, \"M\")"
   ]
  },
  {
   "cell_type": "markdown",
   "id": "f738fafa",
   "metadata": {},
   "source": [
    "# Load data"
   ]
  },
  {
   "cell_type": "code",
   "execution_count": 4,
   "id": "6a07ad1a",
   "metadata": {},
   "outputs": [],
   "source": [
    "compounds = {}\n",
    "compounds[\"spectra_I2\"] = { \"filename\": \"Original_I2.txt\",\n",
    "                     \"title\": \"Iodine\"}\n",
    "\n",
    "compounds[\"spectra_mes\"] = { \"filename\": \"Original_mesitylene.txt\",\n",
    "                    \"title\": \"Mesitylene\"}\n",
    "\n",
    "compounds[\"spectra_complex\"] =   { \"filename\": \"Original_complex.txt\",\n",
    "                     \"title\": \"Complex\"}\n",
    "\n",
    "for type, info in compounds.items():\n",
    "    wavelength, absorbance = np.loadtxt(info[\"filename\"], unpack=True, delimiter='\\t',skiprows=18)\n",
    "    compounds[type][\"wavelength\"] = wavelength\n",
    "    compounds[type][\"absorbance\"] = absorbance "
   ]
  },
  {
   "cell_type": "markdown",
   "id": "1fd595a4",
   "metadata": {},
   "source": [
    "# Load experimental spectra into dictionary"
   ]
  },
  {
   "cell_type": "code",
   "execution_count": 5,
   "id": "db3f4a0b",
   "metadata": {},
   "outputs": [],
   "source": [
    "filenames = sorted(glob.glob('exp*.txt'))\n",
    "experiment = {}\n",
    "keys = range(len(filenames))\n",
    "for i in keys:\n",
    "        experiment[i+1] = {\"filename\": filenames[i], \"title\": C_final_mesytilene[i]}\n",
    "  \n",
    "for type, info in experiment.items():\n",
    "    wavelength, absorbance = np.loadtxt(info[\"filename\"], unpack=True, delimiter='\\t',skiprows=18)\n",
    "    experiment[type][\"wavelength\"] = wavelength\n",
    "    experiment[type][\"absorbance\"] = absorbance"
   ]
  },
  {
   "cell_type": "markdown",
   "id": "cb8cbfb7",
   "metadata": {},
   "source": [
    "# Concentration of Iodine should be derived from spectra of I$_2$"
   ]
  },
  {
   "cell_type": "code",
   "execution_count": 6,
   "id": "35bff5ef",
   "metadata": {},
   "outputs": [
    {
     "name": "stdout",
     "output_type": "stream",
     "text": [
      "C(I2)= 0.0002196694214876033 M\n"
     ]
    }
   ],
   "source": [
    "idx_I = np.where(compounds[\"spectra_I2\"][\"wavelength\"] == lambda_I_520)\n",
    "A_I_concentration = compounds[\"spectra_I2\"][\"absorbance\"][idx_I][0]\n",
    "C_final_I_spectra  = A_I_concentration / (L * epsilon_I_520)\n",
    "print(\"C(I2)=\", C_final_I_spectra, \"M\")"
   ]
  },
  {
   "cell_type": "markdown",
   "id": "86f7f09e",
   "metadata": {},
   "source": [
    "# Huge function for K and $\\epsilon$ determination at different $\\lambda$"
   ]
  },
  {
   "cell_type": "code",
   "execution_count": 7,
   "id": "723c4521",
   "metadata": {},
   "outputs": [],
   "source": [
    "def find_molar_mass(lambda_x, compounds, experiment, C_final_mesytilene, C_final_I_spectra):\n",
    "    # Find absorbance at given lambda in spectra of pure compounds\n",
    "    A_I     = compounds[\"spectra_I2\"][\"absorbance\"][np.where(compounds[\"spectra_I2\"][\"wavelength\"] == lambda_x)][0]\n",
    "    A_mes   = compounds[\"spectra_mes\"][\"absorbance\"][np.where(compounds[\"spectra_mes\"][\"wavelength\"] == lambda_x)][0]\n",
    "\n",
    "    # A = A_I + A_mes + A_complex => \n",
    "    A = []\n",
    "    for type, info in experiment.items(): \n",
    "        exp = experiment[type]\n",
    "        A.append(experiment[type][\"absorbance\"][np.where(experiment[type][\"wavelength\"]==lambda_x)][0])\n",
    "    A = np.array(A)\n",
    "\n",
    "    # Calculate absorbance of complex: A_3, calculate x and y\n",
    "    A_3 = []\n",
    "    x   = []\n",
    "    y   = []\n",
    "    for i in range(len(C_final_mesytilene)):\n",
    "        # A_complex = A_all - A_i2 - A_mes => where A = epsilon C L\n",
    "        A_3_inner = A[i] - (A_mes * L * C_final_mesytilene[i]) - A_I\n",
    "        x_inner = A_3_inner / C_final_I_spectra\n",
    "        y_inner = A_3_inner / (C_final_I_spectra * C_final_mesytilene[i])\n",
    "        A_3.append(A_3_inner)\n",
    "        x.append(x_inner)\n",
    "        y.append(y_inner)\n",
    "    \n",
    "    # Perform linear fitting\n",
    "    function_fitted = np.polyfit(x,y,1)\n",
    "    predict = np.poly1d(function_fitted)\n",
    "    x_lin_reg = range(300,3000)\n",
    "    y_lin_reg = predict(x_lin_reg)\n",
    "\n",
    "    # Derive K and epsilon\n",
    "    K       = -function_fitted[0]\n",
    "    epsilon = function_fitted[1]/K\n",
    "\n",
    "    # Error calculation\n",
    "    R2 = r2_score(y, predict(x))\n",
    "    \n",
    "    return K, epsilon, R2, x_lin_reg, y_lin_reg, x, y"
   ]
  },
  {
   "cell_type": "markdown",
   "id": "0727e02b",
   "metadata": {},
   "source": [
    "where $x=A_{complex} / C_{I_2}$, $y = A_{complex} / C_{I_2}C_{mes}$\n",
    "\n",
    "Since $A = \\epsilon C L$, where C is concentration and L is length of cuvette, we can rewrite:\n",
    "\n",
    "$A_{all} = A_{I_2} + A_{complex} + A_{mes}$\n",
    "\n",
    "as:\n",
    "\n",
    "- $A_{I_2} = \\epsilon_{I_2\\lambda_1}  [C(I_2) - C(complex)] L$\n",
    "- $A_{mes} = \\epsilon_{mes\\lambda_1} [C(mes) - C(complex)] L$, but since mesytilene is actually taken in greater concentrations then any other compound, we can write:\n",
    " $A_{mes} = \\epsilon_{mes\\lambda_1} C(mes) L$\n",
    "- $A_{complex} = \\epsilon_{complex\\lambda_1}  C(complex) L$\n",
    "\n",
    "To calculate absorbance of complex:\n",
    "$A_{complex} = A_{all} - A_{I_2} - A_{mes}$ or $A_{complex} = A_{all} - \\epsilon_{\\lambda_1}  [C(I_2) - C(complex)] L - \\epsilon_{\\lambda_1} C(mes) L$\n",
    "\n",
    "Apply this to equilibrium constant equation:\n",
    "\n",
    "$K=\\frac{X}{(C_{I_2}-X)(C_{mes}-X)} = \\frac{X}{(C_{I_2}-X)C_{mes}}$\n",
    "\n",
    "To receive: \n",
    "\n",
    "$\\frac{A_{complex}}{C_{I_2}C_{mes}} = L \\epsilon_{complex} K - \\frac{A_{complex}}{C_{I_2}} K $\n",
    "\n",
    "which gives a great opportunity to calculate K and $\\epsilon$ simply from linear graph of $y=ax+b$ type"
   ]
  },
  {
   "cell_type": "markdown",
   "id": "2f9c054c",
   "metadata": {},
   "source": [
    "# Calculate K and $\\epsilon$ for $\\lambda = 330$ and $360$ nm "
   ]
  },
  {
   "cell_type": "code",
   "execution_count": 8,
   "id": "dbfcf224",
   "metadata": {},
   "outputs": [
    {
     "name": "stdout",
     "output_type": "stream",
     "text": [
      "equilibrium constnat K = 0.655 (1/M) found at 331 nm, ex. coefficient = 5027.22\n",
      "equilibrium constnat K = 0.558 (1/M) found at 360 nm, ex. coefficient = 2767.20\n"
     ]
    }
   ],
   "source": [
    "K, epsilon, R2, x_lin_reg, y_lin_reg, x, y = find_molar_mass(lambda_1, compounds, experiment, C_final_mesytilene, C_final_I_spectra)\n",
    "K2, epsilon2, R22, x_lin_reg2, y_lin_reg2, x2, y2 = find_molar_mass(lambda_2, compounds, experiment, C_final_mesytilene, C_final_I_spectra)\n",
    "\n",
    "print(f'equilibrium constnat K = {K:.3f} (1/M) found at {lambda_1:.0f} nm, ex. coefficient = {epsilon:.2f}')\n",
    "print(f'equilibrium constnat K = {K2:.3f} (1/M) found at {lambda_2:.0f} nm, ex. coefficient = {epsilon2:.2f}')"
   ]
  },
  {
   "cell_type": "markdown",
   "id": "d537eef0",
   "metadata": {},
   "source": [
    "# Plot figures"
   ]
  },
  {
   "cell_type": "markdown",
   "id": "f4839d39",
   "metadata": {},
   "source": [
    "## Plot spectra"
   ]
  },
  {
   "cell_type": "code",
   "execution_count": 9,
   "id": "15b023ee",
   "metadata": {},
   "outputs": [
    {
     "data": {
      "image/png": "[encoded data removed]",
      "text/plain": [
       "<Figure size 432x288 with 1 Axes>"
      ]
     },
     "metadata": {
      "needs_background": "light"
     },
     "output_type": "display_data"
    }
   ],
   "source": [
    "legend = ['$I_2$','Mesitylene', 'Complex']\n",
    "for i in range(len(C_final_mesytilene)):\n",
    "    legend.append(C_final_mesytilene[i])\n",
    "\n",
    "for type, info in compounds.items():\n",
    "     data = compounds[type]\n",
    "     plt.plot(data[\"wavelength\"], data[\"absorbance\"], label = data[\"title\"])\n",
    "for type, info in experiment.items():     \n",
    "     exp  = experiment[type]\n",
    "     plt.plot(exp[\"wavelength\"], exp[\"absorbance\"], label = exp[\"title\"])\n",
    "plt.axvline(x=lambda_1, color = 'r', label = lambda_1, linestyle='dotted')\n",
    "plt.text(lambda_1, 0.8, '330 nm', ha='center', va='center',rotation='vertical')\n",
    "plt.axvline(x=lambda_2, color = 'r', label = lambda_1, linestyle='dotted')\n",
    "plt.text(lambda_2, 0.8, '360 nm', ha='center', va='center',rotation='vertical')\n",
    "plt.title(r'Spectra')\n",
    "plt.xlabel(r'Wavelength, nm')\n",
    "plt.ylabel(r'Absorbance')\n",
    "plt.xlim([300, 600])\n",
    "plt.ylim([0, 1.2])\n",
    "plt.legend(legend)\n",
    "plt.show()"
   ]
  },
  {
   "cell_type": "markdown",
   "id": "fb564afe",
   "metadata": {},
   "source": [
    "## Plot linear dependence and show result"
   ]
  },
  {
   "cell_type": "code",
   "execution_count": 13,
   "id": "570fc53b",
   "metadata": {},
   "outputs": [
    {
     "data": {
      "image/png": "[encoded data removed]",
      "text/plain": [
       "<Figure size 432x288 with 2 Axes>"
      ]
     },
     "metadata": {
      "needs_background": "light"
     },
     "output_type": "display_data"
    }
   ],
   "source": [
    "plt.figure(1)\n",
    "plt.subplot(211)\n",
    "plt.plot(x,y, 'bo', x_lin_reg, y_lin_reg, 'r--')\n",
    "plt.ylabel(r'$A_3/C_{I_2} C_{mes}$')\n",
    "plt.title(r'Linear dependence for K and $\\epsilon$ determination')\n",
    "plt.annotate(f\"K = {K:.3f}\",xycoords='figure fraction', xy=(0.7, 0.85))\n",
    "plt.annotate(f\"$\\epsilon$ = {epsilon:.2f}\", xycoords='figure fraction', xy=(0.7, 0.80))\n",
    "plt.annotate(f\"R sqr = {R2 :.3f}\", xycoords='figure fraction', xy=(0.7, 0.75))\n",
    "plt.subplot(212)\n",
    "plt.plot(x2,y2, 'bo', x_lin_reg2, y_lin_reg2, 'r--')\n",
    "plt.xlabel(r'$A_3/C_{I_2}$')\n",
    "plt.ylabel(r'$A_3/C_{I_2} C_{mes}$')\n",
    "plt.annotate(f\"K = {K2:.3f}\",xycoords='figure fraction', xy=(0.7, 0.43))\n",
    "plt.annotate(f\"$\\epsilon$ = {epsilon2:.2f}\", xycoords='figure fraction', xy=(0.7, 0.38))\n",
    "plt.annotate(f\"R sqr = {R22 :.3f}\", xycoords='figure fraction', xy=(0.7, 0.33))\n",
    "plt.show()"
   ]
  }
 ],
 "metadata": {
  "kernelspec": {
   "display_name": "Python 3 (ipykernel)",
   "language": "python",
   "name": "python3"
  },
  "language_info": {
   "codemirror_mode": {
    "name": "ipython",
    "version": 3
   },
   "file_extension": ".py",
   "mimetype": "text/x-python",
   "name": "python",
   "nbconvert_exporter": "python",
   "pygments_lexer": "ipython3",
   "version": "3.9.7"
  }
 },
 "nbformat": 4,
 "nbformat_minor": 5
}
